{
 "cells": [
  {
   "cell_type": "code",
   "execution_count": 1,
   "id": "eb6463c2",
   "metadata": {},
   "outputs": [
    {
     "name": "stderr",
     "output_type": "stream",
     "text": [
      "/kroot/src/util/pcu_api/pcu_sequencer/PCU_util.py:13: YAMLLoadWarning: calling yaml.load_all() without Loader=... is deprecated, as the default Loader is unsafe. Please read https://msg.pyyaml.org/load for full details.\n",
      "  configurations = list(yaml.load_all(file))\n",
      "/kroot/src/util/pcu_api/pcu_sequencer/PCU_util.py:26: YAMLLoadWarning: calling yaml.load() without Loader=... is deprecated, as the default Loader is unsafe. Please read https://msg.pyyaml.org/load for full details.\n",
      "  motor_info = yaml.load(file)\n"
     ]
    }
   ],
   "source": [
    "from positions import PCUPos, PCUMove"
   ]
  },
  {
   "cell_type": "code",
   "execution_count": 2,
   "id": "060e9184-6eb3-4305-abd6-fb28bc604d6d",
   "metadata": {},
   "outputs": [
    {
     "data": {
      "text/plain": [
       "[('m1', 150), ('m2', 120), ('m4', 10)]"
      ]
     },
     "execution_count": 2,
     "metadata": {},
     "output_type": "execute_result"
    }
   ],
   "source": [
    "test = PCUPos(m1=150, m2=120, m4=10)\n",
    "test2 = PCUPos(m1=150, m2=120, m4=15)\n",
    "items = test.items()\n",
    "([item for item in items if item[1]!=None])"
   ]
  },
  {
   "cell_type": "code",
   "execution_count": 3,
   "id": "01cc8de3-c2ea-462e-be89-b05f07c3f1d0",
   "metadata": {},
   "outputs": [
    {
     "data": {
      "text/plain": [
       "(Relative PCUMove: [m1->-150, m2->-120, m4->-10],\n",
       " PCUPos (unnamed): [m1: 0, m2: 0, m4: -5])"
      ]
     },
     "execution_count": 3,
     "metadata": {},
     "output_type": "execute_result"
    }
   ],
   "source": [
    "-test, test-test2"
   ]
  },
  {
   "cell_type": "code",
   "execution_count": 2,
   "id": "3dd28637-451b-4674-96e9-d9b8a7801d4b",
   "metadata": {},
   "outputs": [
    {
     "data": {
      "text/plain": [
       "(PCUPos (unnamed): [m1: 110, m2: 120, m4: 50],\n",
       " PCUPos (unnamed): [m1: 150, m2: 120, m4: 10])"
      ]
     },
     "execution_count": 2,
     "metadata": {},
     "output_type": "execute_result"
    }
   ],
   "source": [
    "copy1 = PCUPos(m1=150, m2=120, m4=10)\n",
    "copy2 = copy1.copy()\n",
    "copy1.m4 = 50\n",
    "copy1.mdict['m1'] = 110\n",
    "copy1, copy2"
   ]
  },
  {
   "cell_type": "code",
   "execution_count": 3,
   "id": "0142051a",
   "metadata": {},
   "outputs": [
    {
     "data": {
      "text/plain": [
       "(True, True, False, True)"
      ]
     },
     "execution_count": 3,
     "metadata": {},
     "output_type": "execute_result"
    }
   ],
   "source": [
    "fiber = PCUPos(m1=150, m2=120, m3=0, m4=90)\n",
    "mask = PCUPos(m1=105, m2=184, m3=50, m4=0)\n",
    "out_of_bounds = PCUPos(m1=0, m2=0, m4=50)\n",
    "both = PCUPos(m1=150, m2=120, m3=10, m4=10)\n",
    "\n",
    "fiber.is_valid(), mask.is_valid(), out_of_bounds.is_valid(), both.is_valid()"
   ]
  },
  {
   "cell_type": "code",
   "execution_count": 4,
   "id": "8c316252-5c65-45c9-a96f-37730c3a47d1",
   "metadata": {},
   "outputs": [
    {
     "data": {
      "text/plain": [
       "Relative PCUMove: [m1->+5, m2->-5]"
      ]
     },
     "execution_count": 4,
     "metadata": {},
     "output_type": "execute_result"
    }
   ],
   "source": [
    "test2 = PCUMove(move_type='relative', m1=5, m2=-5, m3=10)\n",
    "test2"
   ]
  },
  {
   "cell_type": "code",
   "execution_count": 5,
   "id": "aef9483d-5b1e-4a6e-8cf5-b1af54762d5f",
   "metadata": {},
   "outputs": [
    {
     "name": "stdout",
     "output_type": "stream",
     "text": [
      "PCUPos (unnamed): [m1: 155, m2: 115, m4: 90]\n"
     ]
    },
    {
     "data": {
      "text/plain": [
       "True"
      ]
     },
     "execution_count": 5,
     "metadata": {},
     "output_type": "execute_result"
    }
   ],
   "source": [
    "print(test2+fiber)\n",
    "(fiber + test2).is_valid()"
   ]
  },
  {
   "cell_type": "code",
   "execution_count": 6,
   "id": "f0471862-0c7c-4e11-a924-bb4a02e23d9b",
   "metadata": {},
   "outputs": [
    {
     "data": {
      "text/plain": [
       "Absolute PCUMove: [m1->160, m2->110, m4->80]"
      ]
     },
     "execution_count": 6,
     "metadata": {},
     "output_type": "execute_result"
    }
   ],
   "source": [
    "test3 = PCUMove(move_type='absolute', m1=160, m2=20)\n",
    "test3.m2 = 110\n",
    "test3['m4'] = 80\n",
    "test3"
   ]
  },
  {
   "cell_type": "code",
   "execution_count": 7,
   "id": "bddd05d4-2461-46f4-817e-d2f644c30265",
   "metadata": {},
   "outputs": [
    {
     "data": {
      "text/plain": [
       "(Absolute PCUMove: [m1->160, m2->110], Absolute PCUMove: [m4->80])"
      ]
     },
     "execution_count": 7,
     "metadata": {},
     "output_type": "execute_result"
    }
   ],
   "source": [
    "test3.xy, test3.z"
   ]
  },
  {
   "cell_type": "code",
   "execution_count": 7,
   "id": "b7053703-e950-41ed-8d3f-55a6e887f879",
   "metadata": {},
   "outputs": [
    {
     "name": "stdout",
     "output_type": "stream",
     "text": [
      "PCUPos (unnamed): [m1: 160, m2: 110, m4: 80]\n"
     ]
    },
    {
     "data": {
      "text/plain": [
       "True"
      ]
     },
     "execution_count": 7,
     "metadata": {},
     "output_type": "execute_result"
    }
   ],
   "source": [
    "print(fiber+test3)\n",
    "(fiber+test3).is_valid()"
   ]
  },
  {
   "cell_type": "code",
   "execution_count": 8,
   "id": "06fc873e-d7dd-4a4e-a816-65d680188f51",
   "metadata": {},
   "outputs": [
    {
     "name": "stdout",
     "output_type": "stream",
     "text": [
      "{'m1': 150, 'm2': 120}\n"
     ]
    }
   ],
   "source": [
    "PCUPos.load_motors()\n",
    "fiber.test()"
   ]
  },
  {
   "cell_type": "code",
   "execution_count": 9,
   "id": "f334e5ac-e532-4f04-bc91-fb9c3d5e7c05",
   "metadata": {},
   "outputs": [
    {
     "data": {
      "text/plain": [
       "(True, False, True)"
      ]
     },
     "execution_count": 9,
     "metadata": {},
     "output_type": "execute_result"
    }
   ],
   "source": [
    "in_limits = PCUPos(m1=116, m2=120, m3=0, m4=90)\n",
    "out_of_bounds = PCUPos(m1=116, m2=129, m3=0, m4=90)\n",
    "just_in_bounds = PCUPos(m1=117, m2=125, m3=0, m4=90)\n",
    "in_limits.in_hole('fiber'), out_of_bounds.in_hole('fiber'), just_in_bounds.in_hole('fiber')"
   ]
  },
  {
   "cell_type": "code",
   "execution_count": 10,
   "id": "64630e15-9f01-4a84-b7e0-1437a426f348",
   "metadata": {},
   "outputs": [
    {
     "data": {
      "text/plain": [
       "PCUPos (unnamed): [m1: 2, m2: 2, m4: 0]"
      ]
     },
     "execution_count": 10,
     "metadata": {},
     "output_type": "execute_result"
    }
   ],
   "source": [
    "test = PCUPos({'m1':1, 'm2':2, 'm3':None, 'm4':0})\n",
    "test.m1 = 2\n",
    "test"
   ]
  },
  {
   "cell_type": "code",
   "execution_count": 11,
   "id": "b27db5d4-b252-4c26-b89a-6bb1938533ef",
   "metadata": {},
   "outputs": [
    {
     "data": {
      "text/plain": [
       "PCUPos (unnamed): [m1: 1, m2: None, m4: None]"
      ]
     },
     "execution_count": 11,
     "metadata": {},
     "output_type": "execute_result"
    }
   ],
   "source": [
    "test = PCUPos()\n",
    "test.mdict['m1'] = 1\n",
    "test"
   ]
  },
  {
   "cell_type": "code",
   "execution_count": 18,
   "id": "8fbbaede",
   "metadata": {},
   "outputs": [],
   "source": [
    "import PCU_util as util"
   ]
  },
  {
   "cell_type": "code",
   "execution_count": 6,
   "id": "402ed30e",
   "metadata": {},
   "outputs": [
    {
     "data": {
      "text/plain": [
       "{'pinhole_mask': Position pinhole_mask: [m1: 105, m2: 184, m3: 82.5, m4: 0],\n",
       " 'fiber_bundle': Position fiber_bundle: [m1: 150, m2: 120, m3: 0, m4: 82.5],\n",
       " 'kpf_mirror': Position kpf_mirror: [m1: 105, m2: 60, m3: 0, m4: 0],\n",
       " 'telescope_sim': Position telescope_sim: [m1: 270, m2: 0, m3: 0, m4: 0],\n",
       " 'telescope': Position telescope: [m1: 0, m2: 0, m3: 0, m4: 0]}"
      ]
     },
     "execution_count": 6,
     "metadata": {},
     "output_type": "execute_result"
    }
   ],
   "source": [
    "base_positions = util.load_configurations()[0]\n",
    "PCUPos.from_dict(base_positions)"
   ]
  },
  {
   "cell_type": "code",
   "execution_count": 7,
   "id": "6439953e",
   "metadata": {},
   "outputs": [
    {
     "data": {
      "text/plain": [
       "{'valid_motors': ['m1', 'm2', 'm4'],\n",
       " 'limits': {'m1': [0, 300], 'm2': [0, 190], 'm3': [0, 100], 'm4': [0, 100]},\n",
       " 'tolerance': {'m1': 0.01,\n",
       "  'm2': 0.008,\n",
       "  'm3': 0.005,\n",
       "  'm4': 0.005,\n",
       "  'rot': 0.0031},\n",
       " 'fiber_limits': {'m1': [115, 185], 'm2': [85, 155]},\n",
       " 'mask_limits': {'m1': [95, 115], 'm2': [175, 190]}}"
      ]
     },
     "execution_count": 7,
     "metadata": {},
     "output_type": "execute_result"
    }
   ],
   "source": [
    "util.load_motors()"
   ]
  },
  {
   "cell_type": "code",
   "execution_count": 10,
   "id": "57757597",
   "metadata": {},
   "outputs": [],
   "source": [
    "import sequencer"
   ]
  },
  {
   "cell_type": "code",
   "execution_count": 12,
   "id": "1842bb23-890d-4ec3-afa8-09d3aabd0b3a",
   "metadata": {},
   "outputs": [
    {
     "data": {
      "text/plain": [
       "True"
      ]
     },
     "execution_count": 12,
     "metadata": {},
     "output_type": "execute_result"
    }
   ],
   "source": [
    "a = {'m1':1, 'm2':None}\n",
    "b = {'m2':None, 'm1':1}\n",
    "c = {'m3':3}\n",
    "\n",
    "a==b"
   ]
  },
  {
   "cell_type": "code",
   "execution_count": 22,
   "id": "0188aad4-c131-43d2-9dd9-bd583d3abc8f",
   "metadata": {},
   "outputs": [],
   "source": [
    "import yaml\n",
    "import PCU_util as util\n",
    "class TestClass:\n",
    "    motor_info = util.motor_info\n",
    "    \n",
    "    @staticmethod\n",
    "    def load_motors():\n",
    "        TestClass.motor_info = util.load_motors()\n",
    "    \n",
    "    def test(self):\n",
    "        print(self.motor_info)\n",
    "    \n",
    "    def test2(self):\n",
    "        print(TestClass.motor_info)"
   ]
  },
  {
   "cell_type": "code",
   "execution_count": 23,
   "id": "32cc5df0-d82c-4b8f-b849-1be0190c5367",
   "metadata": {},
   "outputs": [
    {
     "data": {
      "text/plain": [
       "{'valid_motors': ['m1', 'm2', 'm4'],\n",
       " 'limits': {'m1': [0, 300], 'm2': [0, 190], 'm3': [0, 100], 'm4': [0, 100]},\n",
       " 'tolerance': {'m1': 0.01,\n",
       "  'm2': 0.008,\n",
       "  'm3': 0.005,\n",
       "  'm4': 0.005,\n",
       "  'rot': 0.0031},\n",
       " 'fiber_center': {'m1': 150, 'm2': 120},\n",
       " 'mask_center': {'m1': 105, 'm2': 184},\n",
       " 'safe_radius': {'fiber': 35, 'mask': 35}}"
      ]
     },
     "execution_count": 23,
     "metadata": {},
     "output_type": "execute_result"
    }
   ],
   "source": [
    "TestClass.motor_info"
   ]
  },
  {
   "cell_type": "code",
   "execution_count": 24,
   "id": "72ba2781-a09b-42c7-ade7-df10ff710ec1",
   "metadata": {},
   "outputs": [],
   "source": [
    "test = TestClass()"
   ]
  },
  {
   "cell_type": "code",
   "execution_count": 25,
   "id": "4c585a7c-81b8-428f-a55a-65e107829b15",
   "metadata": {},
   "outputs": [
    {
     "data": {
      "text/plain": [
       "{'valid_motors': ['m1', 'm2', 'm4'],\n",
       " 'limits': {'m1': [0, 300], 'm2': [0, 190], 'm3': [0, 100], 'm4': [0, 100]},\n",
       " 'tolerance': {'m1': 0.01,\n",
       "  'm2': 0.008,\n",
       "  'm3': 0.005,\n",
       "  'm4': 0.005,\n",
       "  'rot': 0.0031},\n",
       " 'fiber_center': {'m1': 150, 'm2': 120},\n",
       " 'mask_center': {'m1': 105, 'm2': 184},\n",
       " 'safe_radius': {'fiber': 35, 'mask': 35}}"
      ]
     },
     "execution_count": 25,
     "metadata": {},
     "output_type": "execute_result"
    }
   ],
   "source": [
    "test.motor_info"
   ]
  },
  {
   "cell_type": "code",
   "execution_count": 26,
   "id": "53a55940-24d0-4d94-b3eb-60ccdb57d1b5",
   "metadata": {},
   "outputs": [],
   "source": [
    "TestClass.load_motors()"
   ]
  },
  {
   "cell_type": "code",
   "execution_count": 27,
   "id": "1fb4274d-2747-4482-9b7e-cd28c0520f27",
   "metadata": {},
   "outputs": [
    {
     "data": {
      "text/plain": [
       "{'valid_motors': ['m1', 'm2', 'm4'],\n",
       " 'limits': {'m1': [0, 300], 'm2': [0, 190], 'm3': [0, 100], 'm4': [0, 100]},\n",
       " 'tolerance': {'m1': 0.01,\n",
       "  'm2': 0.008,\n",
       "  'm3': 0.005,\n",
       "  'm4': 0.005,\n",
       "  'rot': 0.0031},\n",
       " 'fiber_center': {'m1': 150, 'm2': 120},\n",
       " 'mask_center': {'m1': 105, 'm2': 184},\n",
       " 'safe_radius': {'fiber': 35, 'mask': 35},\n",
       " 'test': 1}"
      ]
     },
     "execution_count": 27,
     "metadata": {},
     "output_type": "execute_result"
    }
   ],
   "source": [
    "TestClass.motor_info"
   ]
  },
  {
   "cell_type": "code",
   "execution_count": 28,
   "id": "4b5644cd-dac8-4b1e-b221-e75ca7fb9ecc",
   "metadata": {},
   "outputs": [
    {
     "data": {
      "text/plain": [
       "{'valid_motors': ['m1', 'm2', 'm4'],\n",
       " 'limits': {'m1': [0, 300], 'm2': [0, 190], 'm3': [0, 100], 'm4': [0, 100]},\n",
       " 'tolerance': {'m1': 0.01,\n",
       "  'm2': 0.008,\n",
       "  'm3': 0.005,\n",
       "  'm4': 0.005,\n",
       "  'rot': 0.0031},\n",
       " 'fiber_center': {'m1': 150, 'm2': 120},\n",
       " 'mask_center': {'m1': 105, 'm2': 184},\n",
       " 'safe_radius': {'fiber': 35, 'mask': 35},\n",
       " 'test': 1}"
      ]
     },
     "execution_count": 28,
     "metadata": {},
     "output_type": "execute_result"
    }
   ],
   "source": [
    "test.motor_info"
   ]
  },
  {
   "cell_type": "code",
   "execution_count": 6,
   "id": "91933f97-dcf0-4acd-87c8-6d55daebb1c4",
   "metadata": {},
   "outputs": [
    {
     "name": "stdout",
     "output_type": "stream",
     "text": [
      "dict_items([('a', 1), ('b', 2)])\n"
     ]
    }
   ],
   "source": [
    "test = {'a':1, 'b':2}\n",
    "print(test.items())"
   ]
  },
  {
   "cell_type": "code",
   "execution_count": 7,
   "id": "01753881-c224-4482-b8e7-30aff1468f31",
   "metadata": {},
   "outputs": [
    {
     "data": {
      "text/plain": [
       "({'a': 1, 'b': 2}, {})"
      ]
     },
     "execution_count": 7,
     "metadata": {},
     "output_type": "execute_result"
    }
   ],
   "source": [
    "b = test.copy()\n",
    "test.clear()\n",
    "b, test"
   ]
  },
  {
   "cell_type": "code",
   "execution_count": null,
   "id": "d40cfbb8-13ed-4ffc-a85b-b08c925a0dba",
   "metadata": {},
   "outputs": [],
   "source": []
  }
 ],
 "metadata": {
  "kernelspec": {
   "display_name": "Python 3",
   "language": "python",
   "name": "python3"
  },
  "language_info": {
   "codemirror_mode": {
    "name": "ipython",
    "version": 3
   },
   "file_extension": ".py",
   "mimetype": "text/x-python",
   "name": "python",
   "nbconvert_exporter": "python",
   "pygments_lexer": "ipython3",
   "version": "3.8.8"
  }
 },
 "nbformat": 4,
 "nbformat_minor": 5
}
