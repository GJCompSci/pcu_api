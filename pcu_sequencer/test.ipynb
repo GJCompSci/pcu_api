{
 "cells": [
  {
   "cell_type": "code",
   "execution_count": 11,
   "id": "23e81e79",
   "metadata": {},
   "outputs": [],
   "source": [
    "x = {'a': 1, 'b': 2, 'c': 3}\n",
    "d = 'd'\n",
    "blah = x[d] if d in x else 0"
   ]
  },
  {
   "cell_type": "code",
   "execution_count": 12,
   "id": "e29b92d0",
   "metadata": {},
   "outputs": [
    {
     "data": {
      "text/plain": [
       "0"
      ]
     },
     "execution_count": 12,
     "metadata": {},
     "output_type": "execute_result"
    }
   ],
   "source": [
    "blah"
   ]
  },
  {
   "cell_type": "code",
   "execution_count": 13,
   "id": "41f7881e",
   "metadata": {},
   "outputs": [],
   "source": [
    "y = {'b': 1, 'a': 3, 'c': 2}"
   ]
  },
  {
   "cell_type": "code",
   "execution_count": 14,
   "id": "c31b259a",
   "metadata": {},
   "outputs": [
    {
     "data": {
      "text/plain": [
       "True"
      ]
     },
     "execution_count": 14,
     "metadata": {},
     "output_type": "execute_result"
    }
   ],
   "source": [
    "x.keys() == y.keys()"
   ]
  },
  {
   "cell_type": "code",
   "execution_count": 7,
   "id": "c14be6bf",
   "metadata": {},
   "outputs": [],
   "source": [
    "z = {'a': 1, 'b': 2, 'c': 3, 'd':4}"
   ]
  },
  {
   "cell_type": "code",
   "execution_count": 20,
   "id": "39981c5d",
   "metadata": {},
   "outputs": [
    {
     "data": {
      "text/plain": [
       "0"
      ]
     },
     "execution_count": 20,
     "metadata": {},
     "output_type": "execute_result"
    }
   ],
   "source": [
    "test = set(x.keys()).difference(set(z.keys()))\n",
    "len(test)"
   ]
  },
  {
   "cell_type": "code",
   "execution_count": 26,
   "id": "cfcdd156",
   "metadata": {},
   "outputs": [],
   "source": [
    "from positions import PCUPos"
   ]
  },
  {
   "cell_type": "code",
   "execution_count": 27,
   "id": "63700057",
   "metadata": {},
   "outputs": [
    {
     "ename": "NameError",
     "evalue": "name 'valid_motors' is not defined",
     "output_type": "error",
     "traceback": [
      "\u001b[0;31m---------------------------------------------------------------------------\u001b[0m",
      "\u001b[0;31mNameError\u001b[0m                                 Traceback (most recent call last)",
      "\u001b[0;32m<ipython-input-27-f7d746d0448b>\u001b[0m in \u001b[0;36m<module>\u001b[0;34m\u001b[0m\n\u001b[0;32m----> 1\u001b[0;31m \u001b[0mtest\u001b[0m \u001b[0;34m=\u001b[0m \u001b[0mPCUPos\u001b[0m\u001b[0;34m(\u001b[0m\u001b[0mm1\u001b[0m\u001b[0;34m=\u001b[0m\u001b[0;36m1\u001b[0m\u001b[0;34m,\u001b[0m \u001b[0mm2\u001b[0m\u001b[0;34m=\u001b[0m\u001b[0;36m2\u001b[0m\u001b[0;34m,\u001b[0m \u001b[0mm3\u001b[0m\u001b[0;34m=\u001b[0m\u001b[0;36m3\u001b[0m\u001b[0;34m,\u001b[0m \u001b[0mm4\u001b[0m\u001b[0;34m=\u001b[0m\u001b[0;36m4\u001b[0m\u001b[0;34m)\u001b[0m\u001b[0;34m\u001b[0m\u001b[0;34m\u001b[0m\u001b[0m\n\u001b[0m",
      "\u001b[0;32m~/pcu_api/pcu_sequencer/positions.py\u001b[0m in \u001b[0;36m__init__\u001b[0;34m(self, pos_dict, **kwargs)\u001b[0m\n\u001b[1;32m     13\u001b[0m \u001b[0;34m\u001b[0m\u001b[0m\n\u001b[1;32m     14\u001b[0m         \u001b[0;31m# Load motor positions\u001b[0m\u001b[0;34m\u001b[0m\u001b[0;34m\u001b[0m\u001b[0;34m\u001b[0m\u001b[0m\n\u001b[0;32m---> 15\u001b[0;31m         \u001b[0;32mfor\u001b[0m \u001b[0mm_name\u001b[0m \u001b[0;32min\u001b[0m \u001b[0mvalid_motors\u001b[0m\u001b[0;34m:\u001b[0m\u001b[0;34m\u001b[0m\u001b[0;34m\u001b[0m\u001b[0m\n\u001b[0m\u001b[1;32m     16\u001b[0m             \u001b[0;31m# Set motor position, zero if not specified\u001b[0m\u001b[0;34m\u001b[0m\u001b[0;34m\u001b[0m\u001b[0;34m\u001b[0m\u001b[0m\n\u001b[1;32m     17\u001b[0m             \u001b[0mpos\u001b[0m \u001b[0;34m=\u001b[0m \u001b[0mpos_dict\u001b[0m\u001b[0;34m[\u001b[0m\u001b[0mm_name\u001b[0m\u001b[0;34m]\u001b[0m \u001b[0;32mif\u001b[0m \u001b[0mm_name\u001b[0m \u001b[0;32min\u001b[0m \u001b[0mpos_dict\u001b[0m \u001b[0;32melse\u001b[0m \u001b[0;36m0\u001b[0m\u001b[0;34m\u001b[0m\u001b[0;34m\u001b[0m\u001b[0m\n",
      "\u001b[0;31mNameError\u001b[0m: name 'valid_motors' is not defined"
     ]
    }
   ],
   "source": [
    "test = PCUPos(m1=1, m2=2, m3=3, m4=4)"
   ]
  },
  {
   "cell_type": "code",
   "execution_count": 1,
   "id": "340a4f41",
   "metadata": {},
   "outputs": [],
   "source": [
    "import PCU_util as util"
   ]
  },
  {
   "cell_type": "code",
   "execution_count": 2,
   "id": "75081640",
   "metadata": {},
   "outputs": [
    {
     "name": "stderr",
     "output_type": "stream",
     "text": [
      "/Users/emily_ramey/pcu_api/pcu_sequencer/PCU_util.py:13: YAMLLoadWarning: calling yaml.load_all() without Loader=... is deprecated, as the default Loader is unsafe. Please read https://msg.pyyaml.org/load for full details.\n",
      "  configurations = list(yaml.load_all(file))\n"
     ]
    },
    {
     "data": {
      "text/plain": [
       "[{'pinhole_mask': {'m1': 105, 'm2': 184, 'm3': 82.5, 'm4': 0, 'rot': 0},\n",
       "  'fiber_bundle': {'m1': 150, 'm2': 120, 'm3': 0, 'm4': 82.5, 'rot': 0},\n",
       "  'kpf_mirror': {'m1': 105, 'm2': 60, 'm3': 0, 'm4': 0, 'rot': 0},\n",
       "  'telescope_sim': {'m2': 0, 'm1': 270, 'm3': 0, 'm4': 0, 'rot': 0},\n",
       "  'telescope': {'m1': 0, 'm2': 0, 'm3': 0, 'm4': 0, 'rot': 0}},\n",
       " {'optosiris': {'m1': 131.65, 'm2': 113.05, 'm3': 0, 'm4': 82.5, 'rot': 0},\n",
       "  'ospec': {'m1': 133.35, 'm2': 116.104, 'm3': 0, 'm4': 82.5, 'rot': 0},\n",
       "  'osimg': {'m1': 117.532, 'm2': 115.575, 'm3': 0, 'm4': 82.5, 'rot': 0}},\n",
       " {'test_config': {'m1': 105, 'm2': 184, 'm3': 90, 'm4': 0, 'rot': 0}}]"
      ]
     },
     "execution_count": 2,
     "metadata": {},
     "output_type": "execute_result"
    }
   ],
   "source": [
    "util.load_configurations()"
   ]
  },
  {
   "cell_type": "code",
   "execution_count": 4,
   "id": "0b3dc9ba",
   "metadata": {},
   "outputs": [
    {
     "name": "stderr",
     "output_type": "stream",
     "text": [
      "/Users/emily_ramey/pcu_api/pcu_sequencer/PCU_util.py:26: YAMLLoadWarning: calling yaml.load() without Loader=... is deprecated, as the default Loader is unsafe. Please read https://msg.pyyaml.org/load for full details.\n",
      "  motor_info = yaml.load(file)\n"
     ]
    },
    {
     "data": {
      "text/plain": [
       "{'valid_motors': {'m1': [0, 300], 'm2': [0, 190], 'm4': [0, 100]},\n",
       " 'tolerance': {'m1': 0.01,\n",
       "  'm2': 0.008,\n",
       "  'm3': 0.005,\n",
       "  'm4': 0.005,\n",
       "  'rot': 0.0031},\n",
       " 'fiber_limits': {'m1': [115, 185], 'm2': [85, 155]},\n",
       " 'mask_limits': {'m1': [115, 185], 'm2': [149, 200]}}"
      ]
     },
     "execution_count": 4,
     "metadata": {},
     "output_type": "execute_result"
    }
   ],
   "source": [
    "util.load_motors()"
   ]
  },
  {
   "cell_type": "code",
   "execution_count": null,
   "id": "920e6adc",
   "metadata": {},
   "outputs": [],
   "source": []
  }
 ],
 "metadata": {
  "kernelspec": {
   "display_name": "Python 3",
   "language": "python",
   "name": "python3"
  },
  "language_info": {
   "codemirror_mode": {
    "name": "ipython",
    "version": 3
   },
   "file_extension": ".py",
   "mimetype": "text/x-python",
   "name": "python",
   "nbconvert_exporter": "python",
   "pygments_lexer": "ipython3",
   "version": "3.6.13"
  }
 },
 "nbformat": 4,
 "nbformat_minor": 5
}
