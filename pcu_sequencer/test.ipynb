{
 "cells": [
  {
   "cell_type": "code",
   "execution_count": 1,
   "id": "eb6463c2",
   "metadata": {},
   "outputs": [
    {
     "name": "stderr",
     "output_type": "stream",
     "text": [
      "/kroot/src/util/pcu_api/pcu_sequencer/PCU_util.py:13: YAMLLoadWarning: calling yaml.load_all() without Loader=... is deprecated, as the default Loader is unsafe. Please read https://msg.pyyaml.org/load for full details.\n",
      "  configurations = list(yaml.load_all(file))\n",
      "/kroot/src/util/pcu_api/pcu_sequencer/PCU_util.py:26: YAMLLoadWarning: calling yaml.load() without Loader=... is deprecated, as the default Loader is unsafe. Please read https://msg.pyyaml.org/load for full details.\n",
      "  motor_info = yaml.load(file)\n"
     ]
    }
   ],
   "source": [
    "from positions import PCUPos"
   ]
  },
  {
   "cell_type": "code",
   "execution_count": 2,
   "id": "0142051a",
   "metadata": {},
   "outputs": [
    {
     "data": {
      "text/plain": [
       "(True, True, False, False)"
      ]
     },
     "execution_count": 2,
     "metadata": {},
     "output_type": "execute_result"
    }
   ],
   "source": [
    "fiber = PCUPos(m1=150, m2=120, m3=0, m4=90)\n",
    "mask = PCUPos(m1=105, m2=184, m3=50, m4=0)\n",
    "out_of_bounds = PCUPos(m1=0, m2=0, m3=50)\n",
    "both = PCUPos(m1=150, m2=120, m3=10, m4=10)\n",
    "\n",
    "fiber.is_valid(), mask.is_valid(), out_of_bounds.is_valid(), both.is_valid()"
   ]
  },
  {
   "cell_type": "code",
   "execution_count": 5,
   "id": "64630e15-9f01-4a84-b7e0-1437a426f348",
   "metadata": {},
   "outputs": [
    {
     "data": {
      "text/plain": [
       "Position (unnamed): [m1: 2, m2: 2, m3: 0, m4: 4]"
      ]
     },
     "execution_count": 5,
     "metadata": {},
     "output_type": "execute_result"
    }
   ],
   "source": [
    "test = PCUPos({'m1':1, 'm2':2, 'm3':0, 'm4':4})\n",
    "test.m1 = 2\n",
    "test"
   ]
  },
  {
   "cell_type": "code",
   "execution_count": 7,
   "id": "aef9483d-5b1e-4a6e-8cf5-b1af54762d5f",
   "metadata": {},
   "outputs": [
    {
     "name": "stdout",
     "output_type": "stream",
     "text": [
      "Position (unnamed): [m1: 152, m2: 122, m3: 0, m4: 94]\n"
     ]
    },
    {
     "data": {
      "text/plain": [
       "True"
      ]
     },
     "execution_count": 7,
     "metadata": {},
     "output_type": "execute_result"
    }
   ],
   "source": [
    "print(fiber+test)\n",
    "(fiber+test).is_valid()"
   ]
  },
  {
   "cell_type": "code",
   "execution_count": 3,
   "id": "8fbbaede",
   "metadata": {},
   "outputs": [],
   "source": [
    "import PCU_util as util"
   ]
  },
  {
   "cell_type": "code",
   "execution_count": 4,
   "id": "402ed30e",
   "metadata": {},
   "outputs": [
    {
     "data": {
      "text/plain": [
       "[{'pinhole_mask': {'m1': 105, 'm2': 184, 'm3': 82.5, 'm4': 0, 'rot': 0},\n",
       "  'fiber_bundle': {'m1': 150, 'm2': 120, 'm3': 0, 'm4': 82.5, 'rot': 0},\n",
       "  'kpf_mirror': {'m1': 105, 'm2': 60, 'm3': 0, 'm4': 0, 'rot': 0},\n",
       "  'telescope_sim': {'m2': 0, 'm1': 270, 'm3': 0, 'm4': 0, 'rot': 0},\n",
       "  'telescope': {'m1': 0, 'm2': 0, 'm3': 0, 'm4': 0, 'rot': 0}},\n",
       " {'optosiris': {'m1': 131.65, 'm2': 113.05, 'm3': 0, 'm4': 82.5, 'rot': 0},\n",
       "  'ospec': {'m1': 133.35, 'm2': 116.104, 'm3': 0, 'm4': 82.5, 'rot': 0},\n",
       "  'osimg': {'m1': 117.532, 'm2': 115.575, 'm3': 0, 'm4': 82.5, 'rot': 0}},\n",
       " {'test_config': {'m1': 105, 'm2': 184, 'm3': 90, 'm4': 0, 'rot': 0}}]"
      ]
     },
     "execution_count": 4,
     "metadata": {},
     "output_type": "execute_result"
    }
   ],
   "source": [
    "util.load_configurations()"
   ]
  },
  {
   "cell_type": "code",
   "execution_count": 5,
   "id": "6439953e",
   "metadata": {},
   "outputs": [
    {
     "data": {
      "text/plain": [
       "{'valid_motors': {'m1': [0, 300], 'm2': [0, 190], 'm4': [0, 100]},\n",
       " 'tolerance': {'m1': 0.01,\n",
       "  'm2': 0.008,\n",
       "  'm3': 0.005,\n",
       "  'm4': 0.005,\n",
       "  'rot': 0.0031},\n",
       " 'fiber_limits': {'m1': [115, 185], 'm2': [85, 155]},\n",
       " 'mask_limits': {'m1': [115, 185], 'm2': [149, 200]}}"
      ]
     },
     "execution_count": 5,
     "metadata": {},
     "output_type": "execute_result"
    }
   ],
   "source": [
    "util.load_motors()"
   ]
  },
  {
   "cell_type": "code",
   "execution_count": 10,
   "id": "57757597",
   "metadata": {},
   "outputs": [],
   "source": [
    "import sequencer"
   ]
  },
  {
   "cell_type": "code",
   "execution_count": 9,
   "id": "1842bb23-890d-4ec3-afa8-09d3aabd0b3a",
   "metadata": {},
   "outputs": [
    {
     "data": {
      "text/plain": [
       "{'m1': 1, 'm2': 2, 'm3': 3}"
      ]
     },
     "execution_count": 9,
     "metadata": {},
     "output_type": "execute_result"
    }
   ],
   "source": [
    "a = {'m1':1}\n",
    "b = {'m2':2}\n",
    "c = {'m3':3}\n",
    "dict(a, **b, **c)"
   ]
  },
  {
   "cell_type": "code",
   "execution_count": null,
   "id": "316bd6e8-f93d-493d-8f35-c68a745eface",
   "metadata": {},
   "outputs": [],
   "source": []
  }
 ],
 "metadata": {
  "kernelspec": {
   "display_name": "Python 3",
   "language": "python",
   "name": "python3"
  },
  "language_info": {
   "codemirror_mode": {
    "name": "ipython",
    "version": 3
   },
   "file_extension": ".py",
   "mimetype": "text/x-python",
   "name": "python",
   "nbconvert_exporter": "python",
   "pygments_lexer": "ipython3",
   "version": "3.8.8"
  }
 },
 "nbformat": 4,
 "nbformat_minor": 5
}
